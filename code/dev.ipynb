{
 "cells": [
  {
   "cell_type": "code",
   "execution_count": null,
   "metadata": {},
   "outputs": [],
   "source": [
    "# Standardization flag\n",
    "        if self.standardizeMasks:\n",
    "            logger.info(\"Standardizing PC mask values for plotting.\")\n",
    "        else:\n",
    "            logger.info(\"Skipping standardization of PC masks.\")\n"
   ]
  }
 ],
 "metadata": {
  "language_info": {
   "name": "python"
  }
 },
 "nbformat": 4,
 "nbformat_minor": 2
}
